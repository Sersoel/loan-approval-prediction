{
 "cells": [
  {
   "cell_type": "markdown",
   "id": "c8bfa6cf-e978-446c-894e-bd061c35cb78",
   "metadata": {},
   "source": [
    "**Loan Approval Prediction**"
   ]
  },
  {
   "cell_type": "markdown",
   "id": "411109d8-8a4a-4ac3-a106-7bdeb75e1d62",
   "metadata": {},
   "source": [
    "1. Essential Imports and Global Settings"
   ]
  },
  {
   "cell_type": "code",
   "execution_count": 1,
   "id": "d05e8066-7981-4e4b-bf07-d03245ab43b6",
   "metadata": {},
   "outputs": [],
   "source": [
    "# ## 1. Essential Imports and Global Settings\n",
    "import pandas as pd\n",
    "import numpy as np\n",
    "import matplotlib.pyplot as plt\n",
    "import seaborn as sns\n",
    "import warnings\n",
    "\n",
    "from sklearn.model_selection import train_test_split, GridSearchCV\n",
    "from sklearn.ensemble import RandomForestClassifier\n",
    "from sklearn.metrics import accuracy_score, classification_report, confusion_matrix\n",
    "\n",
    "# Setup\n",
    "warnings.filterwarnings(\"ignore\")\n",
    "sns.set(style=\"whitegrid\")"
   ]
  },
  {
   "cell_type": "markdown",
   "id": "9503efde-5be1-4254-b4b8-3c939fd1794a",
   "metadata": {},
   "source": [
    "2. Configuration and Dataset Path"
   ]
  },
  {
   "cell_type": "code",
   "execution_count": 2,
   "id": "b1d738fd-6699-4bbd-aac6-98a0e8efc3f3",
   "metadata": {},
   "outputs": [],
   "source": [
    "# ## 2. Configuration and Dataset Path\n",
    "DATA_PATH = \"../data/loan_data.csv\"\n",
    "SEED = 42"
   ]
  },
  {
   "cell_type": "code",
   "execution_count": null,
   "id": "c325a74c-6998-488d-87e2-3d7d1fe7b979",
   "metadata": {},
   "outputs": [],
   "source": []
  }
 ],
 "metadata": {
  "kernelspec": {
   "display_name": "Python 3 (ipykernel)",
   "language": "python",
   "name": "python3"
  },
  "language_info": {
   "codemirror_mode": {
    "name": "ipython",
    "version": 3
   },
   "file_extension": ".py",
   "mimetype": "text/x-python",
   "name": "python",
   "nbconvert_exporter": "python",
   "pygments_lexer": "ipython3",
   "version": "3.11.11"
  }
 },
 "nbformat": 4,
 "nbformat_minor": 5
}
