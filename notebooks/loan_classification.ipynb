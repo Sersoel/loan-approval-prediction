{
 "cells": [
  {
   "cell_type": "markdown",
   "id": "c8bfa6cf-e978-446c-894e-bd061c35cb78",
   "metadata": {},
   "source": [
    "**Loan Approval Prediction**"
   ]
  },
  {
   "cell_type": "markdown",
   "id": "411109d8-8a4a-4ac3-a106-7bdeb75e1d62",
   "metadata": {},
   "source": [
    "1. Essential Imports and Global Settings"
   ]
  },
  {
   "cell_type": "code",
   "execution_count": 1,
   "id": "d05e8066-7981-4e4b-bf07-d03245ab43b6",
   "metadata": {},
   "outputs": [],
   "source": [
    "# ## 1. Essential Imports and Global Settings\n",
    "import pandas as pd\n",
    "import numpy as np\n",
    "import matplotlib.pyplot as plt\n",
    "import seaborn as sns\n",
    "import warnings\n",
    "\n",
    "from sklearn.model_selection import train_test_split, GridSearchCV\n",
    "from sklearn.ensemble import RandomForestClassifier\n",
    "from sklearn.metrics import accuracy_score, classification_report, confusion_matrix\n",
    "\n",
    "# Setup\n",
    "warnings.filterwarnings(\"ignore\")\n",
    "sns.set(style=\"whitegrid\")"
   ]
  },
  {
   "cell_type": "code",
   "execution_count": null,
   "id": "27f3b5ee-f8be-4348-91d9-1b4b4879db63",
   "metadata": {},
   "outputs": [],
   "source": []
  }
 ],
 "metadata": {
  "kernelspec": {
   "display_name": "Python 3 (ipykernel)",
   "language": "python",
   "name": "python3"
  },
  "language_info": {
   "codemirror_mode": {
    "name": "ipython",
    "version": 3
   },
   "file_extension": ".py",
   "mimetype": "text/x-python",
   "name": "python",
   "nbconvert_exporter": "python",
   "pygments_lexer": "ipython3",
   "version": "3.11.11"
  }
 },
 "nbformat": 4,
 "nbformat_minor": 5
}
